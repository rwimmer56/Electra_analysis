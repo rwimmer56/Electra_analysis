{
 "cells": [
  {
   "cell_type": "markdown",
   "metadata": {},
   "source": [
    "# Creating predictions file"
   ]
  },
  {
   "cell_type": "code",
   "execution_count": null,
   "metadata": {},
   "outputs": [],
   "source": [
    "#prediction file from finetuning\n",
    "import json\n",
    "with open('Electra_analysis/electra/models/electra_large/results/squad_qa/quac_preds.json', 'r') as JSON:\n",
    "    #or change the path to where the corresponding files can be found\n",
    "        json_dict = json.load(JSON)"
   ]
  },
  {
   "cell_type": "code",
   "execution_count": null,
   "metadata": {},
   "outputs": [],
   "source": [
    "import pandas as pd\n",
    "#turning into json into dataframe\n",
    "x = []\n",
    "for d in json_dict.items():\n",
    "    x.append(d)\n",
    "df = pd.DataFrame(x)\n",
    "df.columns = ['id','answer_predicted']\n",
    "df.to_csv('ans.csv',index=False)"
   ]
  },
  {
   "cell_type": "code",
   "execution_count": null,
   "metadata": {},
   "outputs": [],
   "source": [
    "df.head()"
   ]
  },
  {
   "cell_type": "code",
   "execution_count": null,
   "metadata": {},
   "outputs": [],
   "source": [
    "df.shape"
   ]
  },
  {
   "cell_type": "code",
   "execution_count": null,
   "metadata": {},
   "outputs": [],
   "source": [
    "with open('Electra_analysis/electra/models/electra_large/results/squad_qa/quac_null_odds.json', 'r') as JSON:\n",
    "        #or change the path to where the corresponding files can be found\n",
    "        json_dict = json.load(JSON)"
   ]
  },
  {
   "cell_type": "code",
   "execution_count": null,
   "metadata": {},
   "outputs": [],
   "source": [
    "x = []\n",
    "for d in json_dict.items():\n",
    "    x.append(d)\n",
    "null = pd.DataFrame(x)\n",
    "null.columns = ['id','null_ods']\n"
   ]
  },
  {
   "cell_type": "code",
   "execution_count": null,
   "metadata": {},
   "outputs": [],
   "source": [
    "null.head()"
   ]
  },
  {
   "cell_type": "code",
   "execution_count": null,
   "metadata": {},
   "outputs": [],
   "source": [
    "no_ans= pd.merge(null, df, on='id')"
   ]
  },
  {
   "cell_type": "code",
   "execution_count": null,
   "metadata": {},
   "outputs": [],
   "source": [
    "for i in range(len(no_ans)):\n",
    "    if float(no_ans.iloc[i,1])> -1.1201493740081787:  #threshold picked after finetuning that maximuized F1\n",
    "        no_ans.iloc[i,2]=''"
   ]
  },
  {
   "cell_type": "code",
   "execution_count": null,
   "metadata": {},
   "outputs": [],
   "source": [
    "no_ans.head()"
   ]
  },
  {
   "cell_type": "code",
   "execution_count": null,
   "metadata": {},
   "outputs": [],
   "source": [
    "no_ans.tail()"
   ]
  },
  {
   "cell_type": "code",
   "execution_count": null,
   "metadata": {},
   "outputs": [],
   "source": [
    "js=dict(zip(no_ans.id, no_ans.answer_predicted))"
   ]
  },
  {
   "cell_type": "code",
   "execution_count": null,
   "metadata": {},
   "outputs": [],
   "source": [
    "with open('predictions.json', 'w') as fp:\n",
    "    json.dump(js, fp)"
   ]
  },
  {
   "cell_type": "code",
   "execution_count": null,
   "metadata": {},
   "outputs": [],
   "source": []
  },
  {
   "cell_type": "markdown",
   "metadata": {},
   "source": [
    "# Changing format of original datasets "
   ]
  },
  {
   "cell_type": "code",
   "execution_count": null,
   "metadata": {},
   "outputs": [],
   "source": [
    "#turning original datasets into usable files for analysis\n",
    "import re\n",
    "import  string\n",
    "devset_path = \"quac_dev_w.json\"\n",
    "trainset_path = \"quac_train_w.json\"\n",
    "\n",
    "pred_path = \"predictions.json\"\n",
    "\n",
    "def normalize_answer(s):\n",
    "    \"\"\"Lower text and remove punctuation, articles and extra whitespace.\"\"\"\n",
    "    def remove_articles(text):\n",
    "        regex = re.compile(r'\\b(a|an|the)\\b', re.UNICODE)\n",
    "        return re.sub(regex, ' ', text)\n",
    "    def white_space_fix(text):\n",
    "        return ' '.join(text.split())\n",
    "    def remove_punc(text):\n",
    "        exclude = set(string.punctuation)\n",
    "        return ''.join(ch for ch in text if ch not in exclude)\n",
    "    def lower(text):\n",
    "        return text.lower()\n",
    "    return white_space_fix(remove_articles(remove_punc(lower(s))))\n",
    "\n",
    "with open(trainset_path) as f:\n",
    "    train = json.load(f)\n",
    "    train_data = train['data']\n",
    "\n",
    "with open(devset_path) as f:\n",
    "    dev = json.load(f)\n",
    "    dev_data = dev['data']\n",
    "\n",
    "with open(pred_path) as f:\n",
    "    pred = json.load(f)\n",
    "\n",
    "has_answer_results = []\n",
    "no_answer_results = []\n",
    "for data_blob in dev_data:\n",
    "    paragraphs = data_blob['paragraphs']\n",
    "    for paragraph in paragraphs:\n",
    "        for qa in paragraph['qas']:\n",
    "            pred_answer = normalize_answer(pred[qa['id']])\n",
    "            correct = False\n",
    "            if qa['is_impossible']:\n",
    "                if pred_answer=='':\n",
    "                    correct = True\n",
    "                    pred_answer = '-'\n",
    "                no_answer_results.append('{}\\t{}\\t{}\\t{}\\t{}\\t{}\\t{}\\t'.format(qa['id'], correct, pred_answer, qa['question'], paragraph['context'], qa['followup'],qa['yesno']))\n",
    "            else:\n",
    "                all_answers = []\n",
    "\n",
    "                for answer_dict in qa['answers']:\n",
    "                    answer = normalize_answer(answer_dict['text'])\n",
    "                    all_answers.append(answer)\n",
    "                    correct = correct or answer == pred_answer\n",
    "                if not pred_answer:\n",
    "                    pred_answer = '-'\n",
    "                all_answers = '['+'|'.join(all_answers)+']'\n",
    "                has_answer_results.append('{}\\t{}\\t{}\\t{}\\t{}\\t{}\\t{}\\t{}\\t'.format(paragraph['context'], qa['id'], correct, pred_answer, all_answers, qa['question'], qa['followup'],qa['yesno']))\n",
    "\n",
    "has_answer_results = sorted(has_answer_results, key=lambda x:x.split('\\t')[2])\n",
    "no_answer_results = sorted(no_answer_results, key=lambda x:x.split('\\t')[1])\n",
    "with open(\"elect-question-type-has-answer-stats.txt\", 'w',encoding=\"utf8\") as f:\n",
    "    f.write('{}\\t{}\\t{}\\t{}\\t{}\\t{}\\t{}\\t{}\\t\\n'.format('context','id','TF','pred_answer','possible_answers','question','followup','yesno'))\n",
    "    f.write('\\n'.join(has_answer_results))\n",
    "\n",
    "with open(\"elect-question-type-no-answer-stats.txt\", 'w',encoding=\"utf8\") as f:\n",
    "    f.write('{}\\t{}\\t{}\\t{}\\t{}\\t{}\\t{}\\t\\n'.format('id','TF','answer','question','context','followup','yesno'))\n",
    "    f.write('\\n'.join(no_answer_results))"
   ]
  },
  {
   "cell_type": "markdown",
   "metadata": {},
   "source": [
    "# Creating csv file out of unanswerable questions"
   ]
  },
  {
   "cell_type": "code",
   "execution_count": null,
   "metadata": {},
   "outputs": [],
   "source": [
    "import pandas as pd\n",
    "df_n = pd.read_fwf('elect-question-type-no-answer-stats.txt', delimiter='\\t')\n"
   ]
  },
  {
   "cell_type": "code",
   "execution_count": null,
   "metadata": {},
   "outputs": [],
   "source": [
    "df_n.head()"
   ]
  },
  {
   "cell_type": "code",
   "execution_count": null,
   "metadata": {},
   "outputs": [],
   "source": [
    "import csv\n",
    "with open ('elect-question-type-no-answer-stats.txt', 'r',encoding=\"utf8\") as f:\n",
    "    first_column_n = [column for column in csv.reader(f,delimiter='\\t')]\n",
    "    "
   ]
  },
  {
   "cell_type": "code",
   "execution_count": null,
   "metadata": {},
   "outputs": [],
   "source": [
    "from pandas import DataFrame\n",
    "df_n = DataFrame (first_column_n,columns=first_column_n[0])\n"
   ]
  },
  {
   "cell_type": "code",
   "execution_count": null,
   "metadata": {},
   "outputs": [],
   "source": [
    "df_n = df_n.iloc[1:]\n",
    "df_n.head()"
   ]
  },
  {
   "cell_type": "code",
   "execution_count": null,
   "metadata": {},
   "outputs": [],
   "source": [
    "df_n = df_n[df_n.TF != '']"
   ]
  },
  {
   "cell_type": "code",
   "execution_count": null,
   "metadata": {},
   "outputs": [],
   "source": [
    "df_n.to_csv('no_answer_quac.csv')"
   ]
  },
  {
   "cell_type": "markdown",
   "metadata": {},
   "source": [
    "# Creating csv file out of answerable questions"
   ]
  },
  {
   "cell_type": "code",
   "execution_count": null,
   "metadata": {},
   "outputs": [],
   "source": [
    "import csv\n",
    "with open ('elect-question-type-has-answer-stats.txt', 'r', encoding=\"utf8\") as f:\n",
    "    first_column_y = [column for column in csv.reader(f,delimiter='\\t')]\n",
    "    "
   ]
  },
  {
   "cell_type": "code",
   "execution_count": null,
   "metadata": {},
   "outputs": [],
   "source": [
    "from pandas import DataFrame\n",
    "df_y = DataFrame (first_column_y,columns=first_column_y[0])\n"
   ]
  },
  {
   "cell_type": "code",
   "execution_count": null,
   "metadata": {},
   "outputs": [],
   "source": [
    "df_y = df_y.iloc[1:]\n",
    "df_y.head()"
   ]
  },
  {
   "cell_type": "code",
   "execution_count": null,
   "metadata": {},
   "outputs": [],
   "source": [
    "#df_y = df_y[df_y.TF != ''] just in case where there would be something else in the TF column"
   ]
  },
  {
   "cell_type": "code",
   "execution_count": null,
   "metadata": {},
   "outputs": [],
   "source": [
    "df_y.to_csv('has_answer_quac.csv')"
   ]
  },
  {
   "cell_type": "code",
   "execution_count": null,
   "metadata": {},
   "outputs": [],
   "source": []
  }
 ],
 "metadata": {
  "kernelspec": {
   "display_name": "Python 3",
   "language": "python",
   "name": "python3"
  },
  "language_info": {
   "codemirror_mode": {
    "name": "ipython",
    "version": 3
   },
   "file_extension": ".py",
   "mimetype": "text/x-python",
   "name": "python",
   "nbconvert_exporter": "python",
   "pygments_lexer": "ipython3",
   "version": "3.7.3"
  }
 },
 "nbformat": 4,
 "nbformat_minor": 5
}
